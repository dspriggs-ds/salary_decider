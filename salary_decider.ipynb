{
 "cells": [
  {
   "cell_type": "code",
   "execution_count": null,
   "metadata": {},
   "outputs": [],
   "source": [
    "import json\n",
    "import pandas as pd\n",
    "from pydantic import BaseModel\n",
    "\n",
    "class Salary(BaseModel):\n",
    "    annual_salary: float\n",
    "    annual_salary_monthly: float\n",
    "    annual_salary_biweekly: float\n",
    "    hourly_rate: float\n",
    "    hourly_rate_monthly: float\n",
    "    hourly_rate_biweekly: float"
   ]
  },
  {
   "cell_type": "code",
   "execution_count": 24,
   "metadata": {},
   "outputs": [],
   "source": [
    "def annual_to_hourly(annual_salary):\n",
    "    # Define the number of work hours in a year\n",
    "    hours_per_week = 40\n",
    "    weeks_per_year = 52\n",
    "    hours_per_year = hours_per_week * weeks_per_year\n",
    "    \n",
    "    # Calculate the hourly salary\n",
    "    hourly_salary = annual_salary / hours_per_year\n",
    "    return hourly_salary\n",
    "\n",
    "def calculate_monthly_salary_from_annual(annual_salary):\n",
    "    monthly_salary = annual_salary / 12\n",
    "    return monthly_salary\n",
    "\n",
    "def calculate_biweekly_salary_from_annual(annual_salary):\n",
    "    biweekly_salary = annual_salary / 26\n",
    "    return biweekly_salary\n",
    "\n",
    "def calculate_monthly_salary_from_hourly(hourly_wage, hours_per_week=40):\n",
    "    weekly_salary = hourly_wage * hours_per_week\n",
    "    monthly_salary = weekly_salary * 4.33  # Average number of weeks in a month\n",
    "    return monthly_salary\n",
    "\n",
    "def calculate_biweekly_salary_from_hourly(hourly_wage, hours_per_week=40):\n",
    "    weekly_salary = hourly_wage * hours_per_week\n",
    "    biweekly_salary = weekly_salary * 2\n",
    "    return biweekly_salary\n",
    "\n",
    "def calculate_take_home(salary, percentage=.24):\n",
    "    tax_amount = salary * percentage\n",
    "    take_home = salary - tax_amount\n",
    "    return take_home"
   ]
  },
  {
   "cell_type": "code",
   "execution_count": null,
   "metadata": {},
   "outputs": [],
   "source": []
  },
  {
   "cell_type": "code",
   "execution_count": 25,
   "metadata": {},
   "outputs": [],
   "source": [
    "salary_list =[]\n",
    "\n",
    "for i in range(50000,260000,5000):\n",
    "    sal = Salary(\n",
    "                annual_salary= round(i,2), \n",
    "                annual_salary_monthly= round(calculate_monthly_salary_from_annual(i),2), \n",
    "                annual_salary_biweekly= round(calculate_biweekly_salary_from_annual(i),2), \n",
    "                hourly_rate= round(annual_to_hourly(i),2), \n",
    "                hourly_rate_monthly= round(calculate_monthly_salary_from_hourly(annual_to_hourly(i)),2), \n",
    "                hourly_rate_biweekly= round(calculate_biweekly_salary_from_hourly(annual_to_hourly(i)),2))\n",
    "                \n",
    "\n",
    "    salary_list.append(sal)\n",
    "\n"
   ]
  },
  {
   "cell_type": "code",
   "execution_count": null,
   "metadata": {},
   "outputs": [],
   "source": [
    "base_salary = pd.DataFrame([s.model_dump() for s in salary_list])\n",
    "base_salary['take_home_annual_biweekly'] = calculate_take_home(base_salary['annual_salary_biweekly'])\n",
    "base_salary['take_home_hourly_biweekly'] = calculate_take_home(base_salary['hourly_rate_biweekly'])\n",
    "\n",
    "base_salary['essential_annual_bi_pay']= round(base_salary['take_home_annual_biweekly'] * 0.5,2)\n",
    "base_salary['non_essential_annual_bi_pay']= round(base_salary['take_home_annual_biweekly'] * 0.3,2)\n",
    "base_salary['savings_annual_bi_pay']= round(base_salary['take_home_annual_biweekly'] * 0.2,2)\n",
    "\n",
    "base_salary['essential_hourly_bi_pay']= round(base_salary['take_home_hourly_biweekly'] * 0.5,2)\n",
    "base_salary['non_essential_hourly_bi_pay']= round(base_salary['take_home_hourly_biweekly'] * 0.3,2)\n",
    "base_salary['savings_hourly_bi_pay']= round(base_salary['take_home_hourly_biweekly'] * 0.2,2)\n",
    "display(base_salary)"
   ]
  }
 ],
 "metadata": {
  "kernelspec": {
   "display_name": ".venv",
   "language": "python",
   "name": "python3"
  },
  "language_info": {
   "codemirror_mode": {
    "name": "ipython",
    "version": 3
   },
   "file_extension": ".py",
   "mimetype": "text/x-python",
   "name": "python",
   "nbconvert_exporter": "python",
   "pygments_lexer": "ipython3",
   "version": "3.8.10"
  }
 },
 "nbformat": 4,
 "nbformat_minor": 2
}
